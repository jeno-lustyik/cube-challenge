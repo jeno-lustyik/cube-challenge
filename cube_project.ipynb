{
 "cells": [
  {
   "cell_type": "markdown",
   "metadata": {},
   "source": [
    "## Cube Challenge\n",
    "by Jeno and Rujeko"
   ]
  }
 ],
 "metadata": {
  "interpreter": {
   "hash": "3ef13ed475499759d50b572fc21d72ea61b0374d098be71f05d3278c3ed3dea2"
  },
  "kernelspec": {
   "display_name": "Python 3.8.12 ('strive')",
   "language": "python",
   "name": "python3"
  },
  "language_info": {
   "name": "python",
   "version": "3.8.12"
  },
  "orig_nbformat": 4
 },
 "nbformat": 4,
 "nbformat_minor": 2
}
