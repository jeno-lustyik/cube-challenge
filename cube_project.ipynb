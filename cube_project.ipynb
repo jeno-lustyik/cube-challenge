{
 "cells": [
  {
   "cell_type": "markdown",
   "metadata": {},
   "source": [
    "## Cube Challenge\n",
    "by Jeno and Rujeko"
   ]
  },
  {
   "cell_type": "code",
   "execution_count": 1,
   "metadata": {},
   "outputs": [],
   "source": [
    "import numpy as np"
   ]
  },
  {
   "cell_type": "code",
   "execution_count": 2,
   "metadata": {},
   "outputs": [
    {
     "data": {
      "text/plain": [
       "(False, 0)"
      ]
     },
     "execution_count": 2,
     "metadata": {},
     "output_type": "execute_result"
    }
   ],
   "source": [
    "class Cube:\n",
    "    def __init__(self, x, y, z, size):\n",
    "        self.x = x\n",
    "        self.y = y\n",
    "        self.z = z\n",
    "        self.size = size\n",
    "        \n",
    "\n",
    "    def intersect(self,other):\n",
    "\n",
    "        # finding the lengths of the intersection by looking for maximum of the minimum numbers for each x,y and z and vice versa\n",
    "        x_lower = self.x - (self.size/2), other.x - (other.size/2)\n",
    "        x_upper = self.x + (self.size/2), other.x + (other.size/2)\n",
    "        y_lower = self.y - (self.size/2), other.y - (other.size/2)\n",
    "        y_upper = self.y + (self.size/2), other.y + (other.size/2)\n",
    "        z_lower = self.z - (self.size/2), other.z - (other.size/2)\n",
    "        z_upper = self.z + (self.size/2), other.z + (other.size/2)\n",
    "\n",
    "        coordinates = (min(x_upper) - max(x_lower)), (min(y_upper) - max(y_lower)), (min(z_upper) - max(z_lower))\n",
    "\n",
    "        # finding the disctance between the x's so we can compare them to difference of size length\n",
    "        diff_x = abs(self.x - other.x)\n",
    "        diff_y = abs(self.y - other.y)\n",
    "        diff_z = abs(self.z - other.z)\n",
    "        # length is the sizes divided by half as that is the distance between the centre and the edge\n",
    "        dist = (self.size + other.size)/2\n",
    "\n",
    "        # If the whole distance of each x,y or z from corresponding one is less than the combined distance from the centre\n",
    "        # they will overlap\n",
    "\n",
    "        if diff_x < dist and diff_y < dist and diff_z < dist:\n",
    "            return True, np.prod(coordinates)\n",
    "        else:\n",
    "            return False, 0\n",
    "\n",
    "\n",
    "cube_1 = Cube(10,10,0,5)\n",
    "cube_2 = Cube(5,5,0,2)\n",
    "Cube.intersect(cube_1,cube_2)\n"
   ]
  }
 ],
 "metadata": {
  "interpreter": {
   "hash": "3ef13ed475499759d50b572fc21d72ea61b0374d098be71f05d3278c3ed3dea2"
  },
  "kernelspec": {
   "display_name": "Python 3.8.12 ('strive')",
   "language": "python",
   "name": "python3"
  },
  "language_info": {
   "codemirror_mode": {
    "name": "ipython",
    "version": 3
   },
   "file_extension": ".py",
   "mimetype": "text/x-python",
   "name": "python",
   "nbconvert_exporter": "python",
   "pygments_lexer": "ipython3",
   "version": "3.8.12"
  },
  "orig_nbformat": 4
 },
 "nbformat": 4,
 "nbformat_minor": 2
}
